{
 "cells": [
  {
   "cell_type": "markdown",
   "metadata": {},
   "source": [
    "# Short tutorial on descriptive statistics using Python and Pandas\n",
    "\n",
    "This tutorial uses the Wine data set that can be downloaded from Kaggle at the following URL:\n",
    "\n",
    "https://www.kaggle.com/zynicide/wine-reviews\n",
    "\n",
    "The tutorial covers the following topics\n",
    "- Measures of central tendancy (mean, median and mode)\n",
    "- Measures of spread (range, standard deviation and variance)\n",
    "- The conection between standard deviation and normal distributions\n",
    "- Uniform or random distributions\n",
    "- Outliers\n",
    "- Data visualisations (Histograms and Boxplots)"
   ]
  },
  {
   "cell_type": "code",
   "execution_count": 1,
   "metadata": {},
   "outputs": [],
   "source": [
    "# Author: Stephen Sheridan\n",
    "# Import the required libraries\n",
    "import pandas as pd\n",
    "import pylab\n",
    "import random\n",
    "import numpy as np\n",
    "import matplotlib.pyplot as plt\n",
    "import warnings\n",
    "from scipy import stats"
   ]
  },
  {
   "cell_type": "code",
   "execution_count": 2,
   "metadata": {},
   "outputs": [],
   "source": [
    "# Set default pylab stuff to show plots inline and set the default plot size\n",
    "%matplotlib inline\n",
    "pylab.rcParams['figure.figsize'] = (13.0, 5.0)\n",
    "warnings.filterwarnings('ignore')"
   ]
  },
  {
   "cell_type": "markdown",
   "metadata": {},
   "source": [
    "#### Load the data into a dataframe using the read_csv function and display the top rows using the head function."
   ]
  },
  {
   "cell_type": "code",
   "execution_count": 3,
   "metadata": {},
   "outputs": [
    {
     "data": {
      "text/html": [
       "<div>\n",
       "<style scoped>\n",
       "    .dataframe tbody tr th:only-of-type {\n",
       "        vertical-align: middle;\n",
       "    }\n",
       "\n",
       "    .dataframe tbody tr th {\n",
       "        vertical-align: top;\n",
       "    }\n",
       "\n",
       "    .dataframe thead th {\n",
       "        text-align: right;\n",
       "    }\n",
       "</style>\n",
       "<table border=\"1\" class=\"dataframe\">\n",
       "  <thead>\n",
       "    <tr style=\"text-align: right;\">\n",
       "      <th></th>\n",
       "      <th>country</th>\n",
       "      <th>designation</th>\n",
       "      <th>points</th>\n",
       "      <th>price</th>\n",
       "      <th>province</th>\n",
       "      <th>region_1</th>\n",
       "      <th>taster_name</th>\n",
       "      <th>title</th>\n",
       "      <th>variety</th>\n",
       "      <th>winery</th>\n",
       "    </tr>\n",
       "  </thead>\n",
       "  <tbody>\n",
       "    <tr>\n",
       "      <th>0</th>\n",
       "      <td>US</td>\n",
       "      <td>Reserve Late Harvest</td>\n",
       "      <td>87</td>\n",
       "      <td>13.0</td>\n",
       "      <td>Michigan</td>\n",
       "      <td>Lake Michigan Shore</td>\n",
       "      <td>Alexander Peartree</td>\n",
       "      <td>St. Julian 2013 Reserve Late Harvest Riesling ...</td>\n",
       "      <td>Riesling</td>\n",
       "      <td>St. Julian</td>\n",
       "    </tr>\n",
       "    <tr>\n",
       "      <th>1</th>\n",
       "      <td>US</td>\n",
       "      <td>Vintner's Reserve Wild Child Block</td>\n",
       "      <td>87</td>\n",
       "      <td>65.0</td>\n",
       "      <td>Oregon</td>\n",
       "      <td>Willamette Valley</td>\n",
       "      <td>Paul Gregutt</td>\n",
       "      <td>Sweet Cheeks 2012 Vintner's Reserve Wild Child...</td>\n",
       "      <td>Pinot Noir</td>\n",
       "      <td>Sweet Cheeks</td>\n",
       "    </tr>\n",
       "    <tr>\n",
       "      <th>2</th>\n",
       "      <td>Spain</td>\n",
       "      <td>Ars In Vitro</td>\n",
       "      <td>87</td>\n",
       "      <td>15.0</td>\n",
       "      <td>Northern Spain</td>\n",
       "      <td>Navarra</td>\n",
       "      <td>Michael Schachner</td>\n",
       "      <td>Tandem 2011 Ars In Vitro Tempranillo-Merlot (N...</td>\n",
       "      <td>Tempranillo-Merlot</td>\n",
       "      <td>Tandem</td>\n",
       "    </tr>\n",
       "    <tr>\n",
       "      <th>3</th>\n",
       "      <td>Italy</td>\n",
       "      <td>Belsito</td>\n",
       "      <td>87</td>\n",
       "      <td>16.0</td>\n",
       "      <td>Sicily &amp; Sardinia</td>\n",
       "      <td>Vittoria</td>\n",
       "      <td>Kerin O’Keefe</td>\n",
       "      <td>Terre di Giurfo 2013 Belsito Frappato (Vittoria)</td>\n",
       "      <td>Frappato</td>\n",
       "      <td>Terre di Giurfo</td>\n",
       "    </tr>\n",
       "    <tr>\n",
       "      <th>4</th>\n",
       "      <td>France</td>\n",
       "      <td>Les Natures</td>\n",
       "      <td>87</td>\n",
       "      <td>27.0</td>\n",
       "      <td>Alsace</td>\n",
       "      <td>Alsace</td>\n",
       "      <td>Roger Voss</td>\n",
       "      <td>Jean-Baptiste Adam 2012 Les Natures Pinot Gris...</td>\n",
       "      <td>Pinot Gris</td>\n",
       "      <td>Jean-Baptiste Adam</td>\n",
       "    </tr>\n",
       "  </tbody>\n",
       "</table>\n",
       "</div>"
      ],
      "text/plain": [
       "  country                         designation  points  price  \\\n",
       "0      US                Reserve Late Harvest      87   13.0   \n",
       "1      US  Vintner's Reserve Wild Child Block      87   65.0   \n",
       "2   Spain                        Ars In Vitro      87   15.0   \n",
       "3   Italy                             Belsito      87   16.0   \n",
       "4  France                         Les Natures      87   27.0   \n",
       "\n",
       "            province             region_1         taster_name  \\\n",
       "0           Michigan  Lake Michigan Shore  Alexander Peartree   \n",
       "1             Oregon    Willamette Valley        Paul Gregutt   \n",
       "2     Northern Spain              Navarra   Michael Schachner   \n",
       "3  Sicily & Sardinia             Vittoria       Kerin O’Keefe   \n",
       "4             Alsace               Alsace          Roger Voss   \n",
       "\n",
       "                                               title             variety  \\\n",
       "0  St. Julian 2013 Reserve Late Harvest Riesling ...            Riesling   \n",
       "1  Sweet Cheeks 2012 Vintner's Reserve Wild Child...          Pinot Noir   \n",
       "2  Tandem 2011 Ars In Vitro Tempranillo-Merlot (N...  Tempranillo-Merlot   \n",
       "3   Terre di Giurfo 2013 Belsito Frappato (Vittoria)            Frappato   \n",
       "4  Jean-Baptiste Adam 2012 Les Natures Pinot Gris...          Pinot Gris   \n",
       "\n",
       "               winery  \n",
       "0          St. Julian  \n",
       "1        Sweet Cheeks  \n",
       "2              Tandem  \n",
       "3     Terre di Giurfo  \n",
       "4  Jean-Baptiste Adam  "
      ]
     },
     "execution_count": 3,
     "metadata": {},
     "output_type": "execute_result"
    }
   ],
   "source": [
    "# Load the wine data from the csv file\n",
    "wine_df = pd.read_csv('data/winemag-data.csv')\n",
    "# The following line can be used to drop any rows that have missing values\n",
    "#wine_df.dropna(inplace=True)\n",
    "# Display the top 10 rows of the  wine dataframe\n",
    "wine_df.head()"
   ]
  },
  {
   "cell_type": "markdown",
   "metadata": {},
   "source": [
    "#### The describe function can tell you a lot about the numerical columns in your data set."
   ]
  },
  {
   "cell_type": "code",
   "execution_count": 4,
   "metadata": {},
   "outputs": [
    {
     "data": {
      "text/html": [
       "<div>\n",
       "<style scoped>\n",
       "    .dataframe tbody tr th:only-of-type {\n",
       "        vertical-align: middle;\n",
       "    }\n",
       "\n",
       "    .dataframe tbody tr th {\n",
       "        vertical-align: top;\n",
       "    }\n",
       "\n",
       "    .dataframe thead th {\n",
       "        text-align: right;\n",
       "    }\n",
       "</style>\n",
       "<table border=\"1\" class=\"dataframe\">\n",
       "  <thead>\n",
       "    <tr style=\"text-align: right;\">\n",
       "      <th></th>\n",
       "      <th>points</th>\n",
       "      <th>price</th>\n",
       "    </tr>\n",
       "  </thead>\n",
       "  <tbody>\n",
       "    <tr>\n",
       "      <th>count</th>\n",
       "      <td>54170.000000</td>\n",
       "      <td>54170.000000</td>\n",
       "    </tr>\n",
       "    <tr>\n",
       "      <th>mean</th>\n",
       "      <td>88.966550</td>\n",
       "      <td>39.209341</td>\n",
       "    </tr>\n",
       "    <tr>\n",
       "      <th>std</th>\n",
       "      <td>2.955188</td>\n",
       "      <td>36.154076</td>\n",
       "    </tr>\n",
       "    <tr>\n",
       "      <th>min</th>\n",
       "      <td>80.000000</td>\n",
       "      <td>4.000000</td>\n",
       "    </tr>\n",
       "    <tr>\n",
       "      <th>25%</th>\n",
       "      <td>87.000000</td>\n",
       "      <td>20.000000</td>\n",
       "    </tr>\n",
       "    <tr>\n",
       "      <th>50%</th>\n",
       "      <td>89.000000</td>\n",
       "      <td>30.000000</td>\n",
       "    </tr>\n",
       "    <tr>\n",
       "      <th>75%</th>\n",
       "      <td>91.000000</td>\n",
       "      <td>48.000000</td>\n",
       "    </tr>\n",
       "    <tr>\n",
       "      <th>max</th>\n",
       "      <td>100.000000</td>\n",
       "      <td>2013.000000</td>\n",
       "    </tr>\n",
       "  </tbody>\n",
       "</table>\n",
       "</div>"
      ],
      "text/plain": [
       "             points         price\n",
       "count  54170.000000  54170.000000\n",
       "mean      88.966550     39.209341\n",
       "std        2.955188     36.154076\n",
       "min       80.000000      4.000000\n",
       "25%       87.000000     20.000000\n",
       "50%       89.000000     30.000000\n",
       "75%       91.000000     48.000000\n",
       "max      100.000000   2013.000000"
      ]
     },
     "execution_count": 4,
     "metadata": {},
     "output_type": "execute_result"
    }
   ],
   "source": [
    "# Most of the descriptive stats discussed below can be calculated\n",
    "# using one handy function in Pandas\n",
    "wine_df.describe()"
   ]
  },
  {
   "cell_type": "markdown",
   "metadata": {},
   "source": [
    "# PART 1: Measures of Central Tendency"
   ]
  },
  {
   "cell_type": "markdown",
   "metadata": {},
   "source": [
    "#### Calculate the mean/average of the points (score) and price columns.\n",
    "<img align=\"left\" src=\"images/mean_equation.jpg\" width=150/>"
   ]
  },
  {
   "cell_type": "code",
   "execution_count": 5,
   "metadata": {},
   "outputs": [
    {
     "name": "stdout",
     "output_type": "stream",
     "text": [
      "Mean score = 88.96654975078457\n",
      "Mean price = 39.209340963633004\n"
     ]
    }
   ],
   "source": [
    "# Get the mean score\n",
    "mean_score = wine_df['points'].mean()\n",
    "# Get the mean price\n",
    "mean_price = wine_df['price'].mean()\n",
    "# Print the results\n",
    "print(\"Mean score = \" + str(mean_score))\n",
    "print(\"Mean price = \" + str(mean_price))\n"
   ]
  },
  {
   "cell_type": "markdown",
   "metadata": {},
   "source": [
    "#### Calculate the median of the points (score) and price columns.\n",
    "<img align=\"left\" src=\"images/median.jpg\" width=400/>"
   ]
  },
  {
   "cell_type": "code",
   "execution_count": 6,
   "metadata": {},
   "outputs": [
    {
     "name": "stdout",
     "output_type": "stream",
     "text": [
      "Median score = 89.0\n",
      "Median price = 30.0\n"
     ]
    }
   ],
   "source": [
    "# Get the median score\n",
    "median_score = wine_df['points'].median()\n",
    "# Get the median price\n",
    "median_price = wine_df['price'].median()\n",
    "# Print the results\n",
    "print(\"Median score = \" + str(median_score))\n",
    "print(\"Median price = \" + str(median_price))\n",
    "\n"
   ]
  },
  {
   "cell_type": "markdown",
   "metadata": {},
   "source": [
    "#### Calculate the mode of the points (score) and price columns.\n",
    "The mode if the value that appears most often in the data set."
   ]
  },
  {
   "cell_type": "code",
   "execution_count": 7,
   "metadata": {},
   "outputs": [
    {
     "name": "stdout",
     "output_type": "stream",
     "text": [
      "Price mode = 20.0\n",
      "Score mode = 88\n"
     ]
    }
   ],
   "source": [
    "# Get the mode for price\n",
    "mode_price = wine_df['price'].mode()\n",
    "# Get the mode for points\n",
    "mode_score = wine_df['points'].mode()\n",
    "# Print price result\n",
    "print(\"Price mode = \" + str(mode_price[0]))\n",
    "# Print points result\n",
    "print(\"Score mode = \" + str(mode_score[0]))"
   ]
  },
  {
   "cell_type": "markdown",
   "metadata": {},
   "source": [
    "### The problem with Outliers\n",
    "The mean is calculated by summing up all observations and dividing by the number of observations. Therefore, it is succeptable to outliers. Extremely large or small values will have a big impact on the mean statistic.\n",
    "\n",
    "The median and the mode however, are not succeptable to outliers. This is because they are not calculated from all observations.\n",
    "\n",
    "When checking for outliers in our data it can be useful to visualise the data by creating a barchart. The following cell shows the Wine price values in a Barchart. \n",
    "\n",
    "__NOTE:__ the very large spike in price towards the end of the data set."
   ]
  },
  {
   "cell_type": "code",
   "execution_count": 8,
   "metadata": {
    "scrolled": true
   },
   "outputs": [
    {
     "data": {
      "image/png": "[encoded data removed]",
      "text/plain": [
       "<Figure size 936x360 with 1 Axes>"
      ]
     },
     "metadata": {
      "needs_background": "light"
     },
     "output_type": "display_data"
    }
   ],
   "source": [
    "# Barchart showing price values\n",
    "ax = wine_df['price'].plot(title='Wine prices')\n",
    "ax.set_xlabel('Wine')\n",
    "ax.set_ylabel('Price')\n",
    "plt.savefig(\"figs/price_bar.pdf\")"
   ]
  },
  {
   "cell_type": "markdown",
   "metadata": {},
   "source": [
    "### MIN and MAX\n",
    "There seems to be a very expensive bottle of wine at the end of the data set. We can calculate the the minimum and maximum values of our data in order to see what values the outliers have."
   ]
  },
  {
   "cell_type": "code",
   "execution_count": 9,
   "metadata": {},
   "outputs": [
    {
     "name": "stdout",
     "output_type": "stream",
     "text": [
      "Min price = 4.0 Max price = 2013.0\n",
      "Min score = 80 Max score = 100\n"
     ]
    }
   ],
   "source": [
    "# Get the minimum price\n",
    "min_price = wine_df['price'].min()\n",
    "# Get the maximum price\n",
    "max_price = wine_df['price'].max()\n",
    "# Print the results\n",
    "print(\"Min price = \" + str(min_price) + \" Max price = \" + str(max_price))\n",
    "# Get the minimum score\n",
    "min_score = wine_df['points'].min()\n",
    "# Get the maximum score\n",
    "max_score = wine_df['points'].max()\n",
    "# Print the results\n",
    "print(\"Min score = \" + str(min_score) + \" Max score = \" + str(max_score))"
   ]
  },
  {
   "cell_type": "markdown",
   "metadata": {},
   "source": [
    "# PART 2: Measures of spread"
   ]
  },
  {
   "cell_type": "markdown",
   "metadata": {},
   "source": [
    "### Range\n",
    "It can be use to calculate the range of numeric colums in our data. This can give us some indication of how spread out the data is. The range can be calculated from the MIN and MAX values that we have already calculated. We simply subtract the MIN from the MAX for each column we are interested in."
   ]
  },
  {
   "cell_type": "code",
   "execution_count": 10,
   "metadata": {},
   "outputs": [
    {
     "name": "stdout",
     "output_type": "stream",
     "text": [
      "Price range = 2009.0\n",
      "Score range = 20\n"
     ]
    }
   ],
   "source": [
    "# Calculate the price range\n",
    "price_range = max_price - min_price\n",
    "# Print result\n",
    "print(\"Price range = \" + str(price_range))\n",
    "# Calculate the score range\n",
    "score_range = max_score - min_score\n",
    "# Print result\n",
    "print(\"Score range = \" + str(score_range))"
   ]
  },
  {
   "cell_type": "markdown",
   "metadata": {},
   "source": [
    "#### Calculate the standard deviation of the points (score) and price columns.\n",
    "The standard deviation is also a measure of the spread of our observations, but is a statement of how much our data deviates from the mean. This relationship to the mean is apparent in standard deviation's calculation.\n",
    "\n",
    "- Since the score values range between 80-100, the standard deviation from the mean score should be small. \n",
    "- However, since the range between prices is 2009 we would expect a much higher standard deviation from the mean price of 39.2.\n",
    "- The larger the standard deviation, the more spread out the data is around the mean and vice-versa.\n",
    "\n",
    "\n",
    "<img align=\"left\" src=\"images/std.jpg\" width=600/>"
   ]
  },
  {
   "cell_type": "code",
   "execution_count": 11,
   "metadata": {},
   "outputs": [
    {
     "name": "stdout",
     "output_type": "stream",
     "text": [
      "Standard deviation of score = 2.955188430774286\n",
      "Standard deviation of price = 36.15407596129577\n"
     ]
    }
   ],
   "source": [
    "# Get the score standard deviaiton\n",
    "score_std = wine_df['points'].std()\n",
    "# Get the price standard deviaiton\n",
    "price_std = wine_df['price'].std()\n",
    "\n",
    "# Print the results\n",
    "print(\"Standard deviation of score = \" + str(score_std))\n",
    "print(\"Standard deviation of price = \" + str(price_std))"
   ]
  },
  {
   "cell_type": "markdown",
   "metadata": {},
   "source": [
    "#### Calculate the variance of the points (score) and price columns.\n",
    "The variance is also a measure of the spread of our observations and is calculated in a similar way to the standard deviation. However, the variance calculation does not give us a value in the same units as our observation. For example, if we were dealing with points/score, the variance calculation would give us a value in terms of score^2. This is why standard deviation is the go-to measure of spread in most cases.\n",
    "\n",
    "<img align=\"left\" src=\"images/variance.jpg\" width=300/>"
   ]
  },
  {
   "cell_type": "code",
   "execution_count": 12,
   "metadata": {},
   "outputs": [
    {
     "name": "stdout",
     "output_type": "stream",
     "text": [
      "Variation of score = 8.733138661382187\n",
      "Variation of price = 1307.1172086151444\n"
     ]
    }
   ],
   "source": [
    "# Get the score variation\n",
    "score_var = wine_df['points'].var()\n",
    "# Get the price variation\n",
    "price_var = wine_df['price'].var()\n",
    "\n",
    "# Print the results\n",
    "print(\"Variation of score = \" + str(score_var))\n",
    "print(\"Variation of price = \" + str(price_var))"
   ]
  },
  {
   "cell_type": "markdown",
   "metadata": {},
   "source": [
    "### Standard deviation and the Normal Distribution \n",
    "If the underlying data is normally distributed we can use the standard deviation to estimate the proportion of our data the is under a certain section of the normal distribution curve. For example, 68.2% of the data in the following normal distribution is +-1 standard deviation (+-1Sigma) from the mean (19.1 + 19.1 + 15 + 15 = 68.2). \n",
    "\n",
    "\n",
    "<img align=\"left\" src=\"images/bell_curve.jpg\" width=600/>"
   ]
  },
  {
   "cell_type": "markdown",
   "metadata": {},
   "source": [
    "# PART 3: Data visualisation"
   ]
  },
  {
   "cell_type": "markdown",
   "metadata": {},
   "source": [
    "### We can visualise the distribution of our data by plotting it on a histogram\n",
    "A histogram is an approximate representation of the distribution of numerical data. It was first introduced by Karl Pearson. To construct a histogram, the first step is to \"bin\" (or \"bucket\") the range of values—that is, divide the entire range of values into a series of intervals—and then count how many values fall into each interval. The bins are usually specified as consecutive, non-overlapping intervals of a variable. The bins (intervals) must be adjacent and are often (but not required to be) of equal size. (https://en.wikipedia.org/wiki/Histogram)\n",
    "\n",
    "The following histograms show the distribution of the points/score data in the wine data set. As can be seen, the points/score data is a rough normal distribution."
   ]
  },
  {
   "cell_type": "code",
   "execution_count": 13,
   "metadata": {},
   "outputs": [
    {
     "data": {
      "image/png": "[encoded data removed]",
      "text/plain": [
       "<Figure size 936x360 with 1 Axes>"
      ]
     },
     "metadata": {
      "needs_background": "light"
     },
     "output_type": "display_data"
    }
   ],
   "source": [
    "# Plot the score values on a histogram\n",
    "# this uses 10 bins default\n",
    "ax = wine_df['points'].plot(kind='hist')\n",
    "ax.set_xlabel('Score')\n",
    "ax.set_title(\"Wine Score Histogram\")\n",
    "plt.savefig(\"figs/point_hist.pdf\")"
   ]
  },
  {
   "cell_type": "markdown",
   "metadata": {},
   "source": [
    "### Number of Bins can be thought of a the resolution of the Historgram\n",
    "The range for score is 20. Therefore, 50 bins will give us an plot where there are more intervals than actually values for score. This yields a histogram with gaps between the bars that represent the frequency/count of values in that bin."
   ]
  },
  {
   "cell_type": "code",
   "execution_count": 14,
   "metadata": {},
   "outputs": [
    {
     "data": {
      "image/png": "[encoded data removed]",
      "text/plain": [
       "<Figure size 936x360 with 1 Axes>"
      ]
     },
     "metadata": {
      "needs_background": "light"
     },
     "output_type": "display_data"
    }
   ],
   "source": [
    "# Plot the score values on a histogram with BINS=50\n",
    "ax = wine_df['points'].plot(kind='hist', bins=50)\n",
    "ax.set_xlabel('Score')\n",
    "ax.set_title(\"Wine Score Histogram (50 bins)\")\n",
    "plt.savefig(\"figs/point_hist_50bins.pdf\")"
   ]
  },
  {
   "cell_type": "code",
   "execution_count": 15,
   "metadata": {},
   "outputs": [
    {
     "data": {
      "image/png": "[encoded data removed]",
      "text/plain": [
       "<Figure size 936x360 with 1 Axes>"
      ]
     },
     "metadata": {
      "needs_background": "light"
     },
     "output_type": "display_data"
    }
   ],
   "source": [
    "# Plot the score values on a histogram with BINS=20\n",
    "ax = wine_df['points'].plot(kind='hist', bins=20)\n",
    "ax.set_xlabel('Score')\n",
    "ax.set_title(\"Wine Score Histogram (20 bins)\")\n",
    "plt.savefig(\"figs/point_hist_20bins.pdf\")"
   ]
  },
  {
   "cell_type": "markdown",
   "metadata": {},
   "source": [
    "### We can also plot a histogram showing the distribution of the price data. \n",
    "Note that most of the prices in the data set fall into the first bin with a default number of 10 bins. Also notice that there is a very small number of prices in the second bin and the x-axis stretches out to over 2000 but we cannot see the outlier data. This is because there are very few wines at the extreme price of 2000+ a bottle. Therefore, the bar or line representing these data points is very small in comparision to the number of data points in the first bin and cannot be seen on the histogram plot."
   ]
  },
  {
   "cell_type": "code",
   "execution_count": 16,
   "metadata": {},
   "outputs": [
    {
     "data": {
      "image/png": "[encoded data removed]",
      "text/plain": [
       "<Figure size 936x360 with 1 Axes>"
      ]
     },
     "metadata": {
      "needs_background": "light"
     },
     "output_type": "display_data"
    }
   ],
   "source": [
    "# Plot the price values on a histogram BINS=10\n",
    "ax = wine_df['price'].plot(kind='hist')\n",
    "ax.set_xlabel('Price')\n",
    "ax.set_title(\"Wine Price Histogram\")\n",
    "plt.savefig(\"figs/price_hist.pdf\")"
   ]
  },
  {
   "cell_type": "markdown",
   "metadata": {},
   "source": [
    "### Changing the y-scale to a logarithmic scale can help to visualise smaller data points.\n",
    "However, don't forget that the y-scale is an increasing scale and is not linear. Logarithmic scales reduce wide ranging quantities to smaller scopes.\n",
    "\n",
    "- 10^0 (0 - 1)\n",
    "- 10^1 (1 - 10)\n",
    "- 10^2 (10 - 100)\n",
    "- 10^3 (100 - 1,000)\n",
    "- 10^4 (1,000 - 10,000)"
   ]
  },
  {
   "cell_type": "code",
   "execution_count": 17,
   "metadata": {
    "scrolled": true
   },
   "outputs": [
    {
     "data": {
      "image/png": "[encoded data removed]",
      "text/plain": [
       "<Figure size 936x360 with 1 Axes>"
      ]
     },
     "metadata": {
      "needs_background": "light"
     },
     "output_type": "display_data"
    }
   ],
   "source": [
    "# Plot the price values on a histogram BINS=10\n",
    "ax = wine_df['price'].plot(kind='hist', logy=True, bins=10)\n",
    "ax.set_xlabel('Price')\n",
    "ax.set_title(\"Wine Price Histogram Log Scale (10 bins)\")\n",
    "plt.savefig(\"figs/price_hist_40bins.pdf\")"
   ]
  },
  {
   "cell_type": "markdown",
   "metadata": {},
   "source": [
    "### Removing outliers using the standard deviation\n",
    "If we know what the standard deviation is we can remove outliers that are x standard deviations away from the mean."
   ]
  },
  {
   "cell_type": "code",
   "execution_count": 18,
   "metadata": {},
   "outputs": [
    {
     "data": {
      "image/png": "[encoded data removed]",
      "text/plain": [
       "<Figure size 936x360 with 1 Axes>"
      ]
     },
     "metadata": {
      "needs_background": "light"
     },
     "output_type": "display_data"
    }
   ],
   "source": [
    "# We can use the standard deviation to remove the outliers\n",
    "# Plot the frequency of price values from 0 to mean + 3 standard deviations\n",
    "wine_ex_outliers = wine_df[wine_df.price < (mean_price + (price_std*3))]\n",
    "wine_ex_outliers['price'].plot(kind='hist', logy=True, bins=10)\n",
    "plt.savefig(\"figs/price_ex_outlier_hist.pdf\")"
   ]
  },
  {
   "cell_type": "markdown",
   "metadata": {},
   "source": [
    "### How much of the score data is within +-1 standard deviation from the mean?\n",
    "Recall that if data is normally distributed, ~68% of the data should be within +-1 standard deviation from the mean. We can check this against the score data by filtering the dataframe using the mean score and standard deviation of score.\n",
    "\n",
    "Where the point value is +-1 standard deviation from the mean:\n",
    "\n",
    "wine_df.points > (mean_score - score_std) AND wine_df.points < (mean_score + score_std)\n",
    "\n",
    "When we count the value in this filtered dataframe we see that ~59% of the score data is within +-1 standard deviation from the mean."
   ]
  },
  {
   "cell_type": "code",
   "execution_count": 19,
   "metadata": {},
   "outputs": [
    {
     "name": "stdout",
     "output_type": "stream",
     "text": [
      "Percentage of Score data covered by +-1 standard deviations is 0.5874838471478678\n"
     ]
    }
   ],
   "source": [
    "wine_2std = wine_df[(wine_df.points > (mean_score - score_std)) & (wine_df.points < (mean_score + score_std))]\n",
    "count_2std = wine_2std['points'].count()\n",
    "count_total = wine_df['points'].count()\n",
    "print(\"Percentage of Score data covered by +-1 standard deviations is \" + str(count_2std/count_total))"
   ]
  },
  {
   "cell_type": "markdown",
   "metadata": {},
   "source": [
    "### What would the distribution of random data look like?\n",
    "When we plot random data on a histogram it should approximate a uniform distribution. In other words, the height of each bin should be roughly the same. "
   ]
  },
  {
   "cell_type": "code",
   "execution_count": 20,
   "metadata": {},
   "outputs": [
    {
     "data": {
      "image/png": "[encoded data removed]",
      "text/plain": [
       "<Figure size 936x360 with 1 Axes>"
      ]
     },
     "metadata": {
      "needs_background": "light"
     },
     "output_type": "display_data"
    }
   ],
   "source": [
    "# Lets generate some random data and plot it using a Histogram BINS=50\n",
    "random_values = np.random.randint(-100, 100, size=(10000))\n",
    "random_df = pd.DataFrame(random_values, columns=['value'])\n",
    "random_df['value'].plot(kind='hist', bins=50)\n",
    "plt.savefig(\"figs/random_hist.pdf\")"
   ]
  },
  {
   "cell_type": "markdown",
   "metadata": {},
   "source": [
    "and a synthetic (generated) normal distribution would look like this...."
   ]
  },
  {
   "cell_type": "code",
   "execution_count": 21,
   "metadata": {},
   "outputs": [
    {
     "data": {
      "image/png": "[encoded data removed]",
      "text/plain": [
       "<Figure size 936x360 with 1 Axes>"
      ]
     },
     "metadata": {
      "needs_background": "light"
     },
     "output_type": "display_data"
    }
   ],
   "source": [
    "# Lets generate some normally distributed data and plot it using a Histogram\n",
    "mu, sigma = 0, 50 # mean and standard deviation\n",
    "random_values = np.random.normal(mu, sigma, 10000)\n",
    "random_df = pd.DataFrame(random_values, columns=['value'])\n",
    "random_df['value'].plot(kind='hist', bins=50)\n",
    "plt.savefig(\"figs/normal_hist.pdf\")"
   ]
  },
  {
   "cell_type": "markdown",
   "metadata": {},
   "source": [
    "### Box Plots\n",
    "A boxplot is a standardized way of displaying the distribution of data based on a five number summary (“minimum”, first quartile (Q1), median, third quartile (Q3), and “maximum”). It can tell you about your outliers and what their values are. It can also tell you if your data is symmetrical, how tightly your data is grouped, and if and how your data is skewed. Boxplots can be displayed both horizontally and vertically.\n",
    "\n",
    "- The middle \"Box\" represents the middle 50% of the data.\n",
    "- The \"Whisker\" to the left of the box represents the first 25% of the data\n",
    "- The \"Whisker\" to the right of the box represent the last 25% of the data\n",
    "- Outliers are shown at the extremes, outside the whisker end points\n",
    "\n",
    "(https://www.wellbeingatschool.org.nz/information-sheet/understanding-and-interpreting-box-plots)\n",
    "\n",
    "(https://towardsdatascience.com/understanding-boxplots-5e2df7bcbd51)\n",
    "<img align=\"left\" src=\"images/boxplot.jpg\" width=600/>\n"
   ]
  },
  {
   "cell_type": "code",
   "execution_count": 22,
   "metadata": {},
   "outputs": [
    {
     "data": {
      "image/png": "[encoded data removed]",
      "text/plain": [
       "<Figure size 360x360 with 1 Axes>"
      ]
     },
     "metadata": {
      "needs_background": "light"
     },
     "output_type": "display_data"
    }
   ],
   "source": [
    "# Wine price boxplot\n",
    "fig = plt.figure(figsize=(5,5))\n",
    "fig.suptitle('Wine Price Boxplot', fontsize=14, fontweight='bold')\n",
    "\n",
    "ax = fig.add_subplot(111)\n",
    "ax.boxplot(wine_df['price'],sym='+')\n",
    "plt.xticks([1], ['Wine Price'])\n",
    "ax.set_ylabel('Price')\n",
    "plt.grid()\n",
    "plt.show()\n",
    "fig.savefig(\"figs/price_boxplot.pdf\")"
   ]
  },
  {
   "cell_type": "code",
   "execution_count": 23,
   "metadata": {},
   "outputs": [
    {
     "data": {
      "image/png": "[encoded data removed]",
      "text/plain": [
       "<Figure size 360x360 with 1 Axes>"
      ]
     },
     "metadata": {
      "needs_background": "light"
     },
     "output_type": "display_data"
    }
   ],
   "source": [
    "# Wine price using a logarithmic scale\n",
    "fig = plt.figure(figsize=(5,5))\n",
    "fig.suptitle('Wine Price Boxplot Logarithmic Scale', fontsize=14, fontweight='bold')\n",
    "\n",
    "ax = fig.add_subplot(111)\n",
    "ax.boxplot(wine_df['price'],sym='+')\n",
    "plt.xticks([1], ['Wine Price'])\n",
    "ax.set_ylabel('Price')\n",
    "ax.set_yscale(\"log\")\n",
    "plt.grid()\n",
    "plt.show()\n",
    "fig.savefig(\"figs/price_log_boxplot.pdf\")"
   ]
  },
  {
   "cell_type": "markdown",
   "metadata": {},
   "source": [
    "### Boxplots by group\n",
    "Using Pandas, it is also possible to create a set of boxplots that group the data on a particular value. For example, we can group the Wine data by country and create a separate boxplot for each country category. This is very useful as it allows us to compare the distribution of data across different categories in our data."
   ]
  },
  {
   "cell_type": "code",
   "execution_count": 24,
   "metadata": {},
   "outputs": [
    {
     "data": {
      "image/png": "[encoded data removed]",
      "text/plain": [
       "<Figure size 936x360 with 1 Axes>"
      ]
     },
     "metadata": {
      "needs_background": "light"
     },
     "output_type": "display_data"
    }
   ],
   "source": [
    "# We can look at the spread of scores by country\n",
    "ax = wine_df.boxplot(column='points',by='country')\n",
    "plt.savefig(\"figs/points_by_country_boxplot.pdf\")"
   ]
  },
  {
   "cell_type": "code",
   "execution_count": 25,
   "metadata": {},
   "outputs": [
    {
     "data": {
      "image/png": "[encoded data removed]",
      "text/plain": [
       "<Figure size 936x360 with 1 Axes>"
      ]
     },
     "metadata": {
      "needs_background": "light"
     },
     "output_type": "display_data"
    }
   ],
   "source": [
    "# We can look at the spread of prices by country\n",
    "ax = wine_df.boxplot(column='price',by='country')\n",
    "ax.set_yscale(\"log\")\n",
    "plt.savefig(\"figs/price_by_country_boxplot.pdf\")"
   ]
  }
 ],
 "metadata": {
  "kernelspec": {
   "display_name": "Python 3",
   "language": "python",
   "name": "python3"
  },
  "language_info": {
   "codemirror_mode": {
    "name": "ipython",
    "version": 3
   },
   "file_extension": ".py",
   "mimetype": "text/x-python",
   "name": "python",
   "nbconvert_exporter": "python",
   "pygments_lexer": "ipython3",
   "version": "3.8.3"
  }
 },
 "nbformat": 4,
 "nbformat_minor": 2
}
